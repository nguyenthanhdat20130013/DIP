{
 "cells": [
  {
   "cell_type": "code",
   "execution_count": 1,
   "id": "initial_id",
   "metadata": {
    "collapsed": true,
    "ExecuteTime": {
     "end_time": "2024-05-03T15:11:06.118155Z",
     "start_time": "2024-05-03T15:11:05.836438Z"
    }
   },
   "outputs": [],
   "source": [
    "import numpy as np\n",
    "import cv2 as cv"
   ]
  },
  {
   "cell_type": "code",
   "outputs": [],
   "source": [
    "def gammaCorrect(mat, gamma):\n",
    "    mat = mat/255.0\n",
    "    mat = 255 * pow(mat, gamma)\n",
    "    mat = mat.astype(np.uint8)\n",
    "    return mat"
   ],
   "metadata": {
    "collapsed": false,
    "ExecuteTime": {
     "end_time": "2024-05-03T15:11:08.429021Z",
     "start_time": "2024-05-03T15:11:08.414465Z"
    }
   },
   "id": "460a0ec26c08bcf8",
   "execution_count": 2
  },
  {
   "cell_type": "code",
   "outputs": [],
   "source": [
    "def gammaCorrectColored(img, gamma):\n",
    "    HSV = cv.cvtColor(img, cv.COLOR_BGR2HSV)\n",
    "    matV = HSV[:,:,2]\n",
    "    matC = gammaCorrect(matV, gamma)\n",
    "    HSV[:,:,2] = matC\n",
    "    out = cv.cvtColor(HSV, cv.COLOR_HSV2BGR)\n",
    "    return out"
   ],
   "metadata": {
    "collapsed": false,
    "ExecuteTime": {
     "end_time": "2024-05-03T15:11:13.677241Z",
     "start_time": "2024-05-03T15:11:13.664663Z"
    }
   },
   "id": "bfd14539411843e3",
   "execution_count": 3
  },
  {
   "cell_type": "code",
   "outputs": [],
   "source": [
    "def alphaBetaTransform(mat, alpha, beta):\n",
    "    mat = alpha * mat + beta\n",
    "    mat = np.clip(mat, 0, 255)  # Đảm bảo giá trị pixel nằm trong khoảng [0, 255]\n",
    "    mat = mat.astype(np.uint8)\n",
    "    return mat\n",
    "\n",
    "\n",
    "\n",
    "def alphaBetaTransformColored(img, alpha, beta):\n",
    "    HSV = cv.cvtColor(img, cv.COLOR_BGR2HSV)\n",
    "    matV = HSV[:,:,2]\n",
    "    matC = alphaBetaTransform(matV, alpha, beta)\n",
    "    HSV[:,:,2] = matC\n",
    "    out = cv.cvtColor(HSV, cv.COLOR_HSV2BGR)\n",
    "    return out"
   ],
   "metadata": {
    "collapsed": false,
    "ExecuteTime": {
     "end_time": "2024-05-03T15:34:32.353913Z",
     "start_time": "2024-05-03T15:34:32.335234Z"
    }
   },
   "id": "f13ab1da5ec435c9",
   "execution_count": 15
  },
  {
   "cell_type": "code",
   "outputs": [],
   "source": [
    "file = \"D:\\LAB\\XuLyAnh\\DIPgit\\img\\img_1.png\"\n",
    "img = cv.imread(file)\n",
    "gamma = 2.1\n",
    "out = gammaCorrectColored(img, gamma)\n",
    "a = 0.5\n",
    "b = 10\n",
    "outab = alphaBetaTransformColored(img, a, b)\n",
    "cv.imshow(f'Original Image', img)\n",
    "cv.imshow(f'Gamma {gamma}', out)\n",
    "cv.imshow(f'Alpha {a}', outab)\n",
    "\n",
    "cv.waitKey(0)\n",
    "cv.destroyAllWindows()"
   ],
   "metadata": {
    "collapsed": false,
    "ExecuteTime": {
     "end_time": "2024-05-03T15:35:16.958856Z",
     "start_time": "2024-05-03T15:35:07.620814Z"
    }
   },
   "id": "dcd1ac0462100a2",
   "execution_count": 19
  },
  {
   "cell_type": "code",
   "outputs": [],
   "source": [],
   "metadata": {
    "collapsed": false
   },
   "id": "d95baf07add3543e"
  }
 ],
 "metadata": {
  "kernelspec": {
   "display_name": "Python 3",
   "language": "python",
   "name": "python3"
  },
  "language_info": {
   "codemirror_mode": {
    "name": "ipython",
    "version": 2
   },
   "file_extension": ".py",
   "mimetype": "text/x-python",
   "name": "python",
   "nbconvert_exporter": "python",
   "pygments_lexer": "ipython2",
   "version": "2.7.6"
  }
 },
 "nbformat": 4,
 "nbformat_minor": 5
}
