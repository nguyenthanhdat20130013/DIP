{
 "cells": [
  {
   "cell_type": "code",
   "execution_count": 4,
   "id": "initial_id",
   "metadata": {
    "collapsed": true,
    "ExecuteTime": {
     "end_time": "2024-05-10T16:17:09.128568Z",
     "start_time": "2024-05-10T16:16:51.209694Z"
    }
   },
   "outputs": [],
   "source": [
    "import numpy as np\n",
    "import cv2 as cv\n",
    "\n",
    "\n",
    "# file_name = \"D:\\\\ppp\\\\img_test_spectrum\\\\SinusInter.png\"\n",
    "# img = cv.imread(file_name, cv.IMREAD_GRAYSCALE)\n",
    "#\n",
    "# F = np.fft.fftshift(np.fft.fft2(img))\n",
    "#\n",
    "#\n",
    "# spec = np.log1p(np.abs(F))\n",
    "# ratio = 255 / spec.max()\n",
    "# spec *= ratio\n",
    "#\n",
    "# spec = spec.astype(np.uint8)\n",
    "#\n",
    "# # neu khong show dc spectrum cua anh thi kiem tra kieu du lieu va gia tri lon nhat cua anh\n",
    "# print(spec.max())\n",
    "# print(spec.dtype)\n",
    "# # 18.084480134437168\n",
    "# # float64\n",
    "#\n",
    "# cv.imshow('spec', spec)\n",
    "#\n",
    "# cv.imwrite('spec2.jpg', spec)\n",
    "# # 475 387\n",
    "# # 523 437\n",
    "\n",
    "def createNotchFilter(shape, points, radius):\n",
    "    H = np.ones(shape)\n",
    "    # goc toa do\n",
    "    cx = shape[1] // 2\n",
    "    cy = shape[0] // 2\n",
    "    for d in range(len(points)):\n",
    "        x = points[d][0]\n",
    "        y = points[d][1]\n",
    "        cv.circle(H, (x, y), radius, 0, -1, cv.LINE_AA)\n",
    "\n",
    "        # delta x, y\n",
    "        dx = (cx - x)\n",
    "        dy = (cy - y)\n",
    "        x2 = cx + dx\n",
    "        y2 = cy + dy\n",
    "        cv.circle(H, (x2, y2), radius, 0, -1, cv.LINE_AA)\n",
    "    return H\n",
    "\n",
    "file_name = 'D:\\LAB\\XuLyAnh\\DIPgit\\img\\SinusInter.png'\n",
    "#file_name = \"D:\\LAB\\XuLyAnh\\DIPgit\\img\\PeriodicNoiseCraft.png\"\n",
    "img = cv.imread(file_name, cv.IMREAD_GRAYSCALE)\n",
    "# points = np.array([[283, 231],[285,233],[383,131],[385,133]])  # chi can 1 diem suy ra diem con lai\n",
    "points = np.array([[475, 387], [525, 437]])  # chi can 1 diem suy ra diem con lai\n",
    "\n",
    "\n",
    "F = np.fft.fftshift(np.fft.fft2(img))\n",
    "H = createNotchFilter(img.shape, points, 1)\n",
    "\n",
    "G = F * H\n",
    "\n",
    "g = np.fft.ifft2(np.fft.ifftshift(G))\n",
    "g = np.abs(g)\n",
    "g = np.clip(g, 0, 255).astype(np.uint8)\n",
    "\n",
    "cv.imshow('Denoised', g)\n",
    "\n",
    "cv.waitKey(0)\n",
    "cv.destroyAllWindows()"
   ]
  }
 ],
 "metadata": {
  "kernelspec": {
   "display_name": "Python 3",
   "language": "python",
   "name": "python3"
  },
  "language_info": {
   "codemirror_mode": {
    "name": "ipython",
    "version": 2
   },
   "file_extension": ".py",
   "mimetype": "text/x-python",
   "name": "python",
   "nbconvert_exporter": "python",
   "pygments_lexer": "ipython2",
   "version": "2.7.6"
  }
 },
 "nbformat": 4,
 "nbformat_minor": 5
}
