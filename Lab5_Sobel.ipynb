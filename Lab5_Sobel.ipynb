{
 "cells": [
  {
   "cell_type": "code",
   "execution_count": 1,
   "id": "initial_id",
   "metadata": {
    "collapsed": true,
    "ExecuteTime": {
     "end_time": "2024-05-10T14:46:57.054515Z",
     "start_time": "2024-05-10T14:46:56.805330Z"
    }
   },
   "outputs": [],
   "source": [
    "import numpy as np\n",
    "import cv2 as cv\n"
   ]
  },
  {
   "cell_type": "code",
   "outputs": [],
   "source": [
    "def convolution(gray, kernel):\n",
    "    ksize = kernel.shape[0]\n",
    "    padding = kernel//2\n",
    "    gray_padding = np.pad(gray, padding)\n",
    "    output = np.zeros(gray.shape, dtype=float)\n",
    "    N, M = gray.shape\n",
    "    for row in range(N):\n",
    "        for col in range(M):\n",
    "            sub = gray_padding[row: row + ksize, col: col+ ksize]\n",
    "            output[row, col] = np.sum(sub*kernel)\n",
    "    output = np.clip(output, 0, 255).astype(np.uint8)\n",
    "    return output"
   ],
   "metadata": {
    "collapsed": false,
    "ExecuteTime": {
     "end_time": "2024-05-10T14:46:57.069994Z",
     "start_time": "2024-05-10T14:46:57.057447Z"
    }
   },
   "id": "685ab9f49e299c0a",
   "execution_count": 2
  },
  {
   "cell_type": "code",
   "outputs": [],
   "source": [
    "def convolutionFloat(gray, kernel):\n",
    "    ksize = kernel.shape[0]\n",
    "    padding = ksize // 2\n",
    "    gray_ext = np.pad(gray, padding)\n",
    "    N, M = gray.shape\n",
    "    out = np.zeros(gray.shape, dtype = float)\n",
    "    for row in range(N):\n",
    "        for col in range(M):\n",
    "            sub = gray_ext[row: row+ksize, col: col+ksize]\n",
    "            out[row, col] = np.sum(sub*kernel)\n",
    "    return out"
   ],
   "metadata": {
    "collapsed": false,
    "ExecuteTime": {
     "end_time": "2024-05-10T14:48:39.669394Z",
     "start_time": "2024-05-10T14:48:39.652842Z"
    }
   },
   "id": "cfdfd305be29b507",
   "execution_count": 7
  },
  {
   "cell_type": "code",
   "outputs": [],
   "source": [
    "sx = np.array([[1, 0, -1], [2, 0, -2], [1, 0, -1]])\n",
    "sy = np.array([[1, 2, 1], [0, 0, 0], [-1, -2, -1]])"
   ],
   "metadata": {
    "collapsed": false,
    "ExecuteTime": {
     "end_time": "2024-05-10T14:46:57.132781Z",
     "start_time": "2024-05-10T14:46:57.109128Z"
    }
   },
   "id": "6715d077d4e4b1d",
   "execution_count": 4
  },
  {
   "cell_type": "code",
   "outputs": [
    {
     "name": "stdout",
     "output_type": "stream",
     "text": [
      "Max value: 255\n",
      "Min value: 0\n"
     ]
    }
   ],
   "source": [
    "file = 'D:\\LAB\\XuLyAnh\\DIPgit\\img\\\\bikegray.jpg'\n",
    "img = cv.imread(file)\n",
    "cv.imshow('img', img)\n",
    "\n",
    "HSV = cv.cvtColor(img, cv.COLOR_BGR2HSV)\n",
    "gray = HSV[:,:,2]\n",
    "\n",
    "\n",
    "sobelx = convolutionFloat(gray, sx)\n",
    "sobely = convolutionFloat(gray, sy)\n",
    "sobel = sobelx + sobely\n",
    "sobel = np.clip(sobel, 0, 255).astype(np.uint8)\n",
    "print(f'Max value: {np.max(sobel)}')\n",
    "print(f'Min value: {np.min(sobel)}')\n",
    "\n",
    "cv.imshow('Sobel Edge ', sobel)\n",
    "\n",
    "k = 0.3\n",
    "shaper = gray + k*sobel\n",
    "shaper = np.clip(shaper, 0, 255).astype(np.uint8)\n",
    "HSV[:,:,2] = shaper\n",
    "shaper = cv.cvtColor(HSV, cv.COLOR_HSV2RGB)\n",
    "cv.imshow('Shaper', shaper)\n",
    "cv.waitKey(0)\n",
    "cv.destroyAllWindows()"
   ],
   "metadata": {
    "collapsed": false,
    "ExecuteTime": {
     "end_time": "2024-05-10T14:57:54.300217Z",
     "start_time": "2024-05-10T14:57:20.121715Z"
    }
   },
   "id": "7ea067566c11de1d",
   "execution_count": 16
  },
  {
   "cell_type": "code",
   "outputs": [],
   "source": [],
   "metadata": {
    "collapsed": false,
    "ExecuteTime": {
     "end_time": "2024-05-10T14:47:16.320315Z",
     "start_time": "2024-05-10T14:47:16.307775Z"
    }
   },
   "id": "ebea76e83b83684d",
   "execution_count": 5
  }
 ],
 "metadata": {
  "kernelspec": {
   "display_name": "Python 3",
   "language": "python",
   "name": "python3"
  },
  "language_info": {
   "codemirror_mode": {
    "name": "ipython",
    "version": 2
   },
   "file_extension": ".py",
   "mimetype": "text/x-python",
   "name": "python",
   "nbconvert_exporter": "python",
   "pygments_lexer": "ipython2",
   "version": "2.7.6"
  }
 },
 "nbformat": 4,
 "nbformat_minor": 5
}
