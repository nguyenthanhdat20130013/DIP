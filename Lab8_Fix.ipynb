{
 "cells": [
  {
   "cell_type": "code",
   "execution_count": null,
   "id": "initial_id",
   "metadata": {
    "collapsed": true
   },
   "outputs": [],
   "source": []
  },
  {
   "cell_type": "code",
   "outputs": [],
   "source": [
    "import cv2 as cv\n",
    "import numpy as np\n",
    "\n",
    "def adaptiveMedianFilter(img_gray, window_max):\n",
    "    N, M = img_gray.shape\n",
    "    output = np.zeros_like(img_gray)\n",
    "    for row in range(N):\n",
    "        for col in range(M):\n",
    "            output[row, col] = anf(img_gray, row, col, window_max)\n",
    "    return output\n",
    "\n",
    "def anf(img_gray, row, col, window_max):\n",
    "    N, M = img_gray.shape\n",
    "    window_size = 3\n",
    "    Zxy = img_gray[row, col]\n",
    "    while window_size <= window_max:\n",
    "        d = window_size // 2\n",
    "        r_min = max(0, row - d)\n",
    "        r_max = min(N, row + d + 1)\n",
    "        c_min = max(0, col - d)\n",
    "        c_max = min(M, col + d + 1)\n",
    "        \n",
    "        S = img_gray[r_min:r_max, c_min:c_max]\n",
    "        Zmin = S.min()\n",
    "        Zmax = S.max()\n",
    "        Zmed = np.median(S)\n",
    "        \n",
    "        if Zmin < Zmed < Zmax:\n",
    "            if Zmin < Zxy < Zmax:\n",
    "                return Zxy\n",
    "            else:\n",
    "                return Zmed\n",
    "        else:\n",
    "            window_size += 2\n",
    "    return Zmed\n",
    "\n",
    "# Load image and apply the filter\n",
    "file = 'D:\\CODE\\XLA\\DIP\\DIP\\img\\img_11.png'\n",
    "img_gray = cv.imread(file, cv.IMREAD_GRAYSCALE)\n",
    "window_max = 20\n",
    "\n",
    "filtered_img = adaptiveMedianFilter(img_gray, window_max)\n",
    "\n",
    "# Display the results\n",
    "cv.imshow('Median Filter', filtered_img)\n",
    "cv.imshow(\"Original\", img_gray)\n",
    "cv.waitKey(0)\n",
    "cv.destroyAllWindows()\n"
   ],
   "metadata": {
    "collapsed": false,
    "ExecuteTime": {
     "end_time": "2024-06-10T16:24:06.283267Z",
     "start_time": "2024-06-10T16:22:56.098443Z"
    }
   },
   "id": "4770d59e5c633355",
   "execution_count": 2
  }
 ],
 "metadata": {
  "kernelspec": {
   "display_name": "Python 3",
   "language": "python",
   "name": "python3"
  },
  "language_info": {
   "codemirror_mode": {
    "name": "ipython",
    "version": 2
   },
   "file_extension": ".py",
   "mimetype": "text/x-python",
   "name": "python",
   "nbconvert_exporter": "python",
   "pygments_lexer": "ipython2",
   "version": "2.7.6"
  }
 },
 "nbformat": 4,
 "nbformat_minor": 5
}
