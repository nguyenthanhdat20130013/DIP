{
 "cells": [
  {
   "cell_type": "code",
   "execution_count": 1,
   "id": "initial_id",
   "metadata": {
    "collapsed": true,
    "ExecuteTime": {
     "end_time": "2024-06-10T15:51:51.665904Z",
     "start_time": "2024-06-10T15:51:51.326273Z"
    }
   },
   "outputs": [],
   "source": [
    "import numpy as np\n",
    "import cv2 as cv"
   ]
  },
  {
   "cell_type": "code",
   "outputs": [],
   "source": [
    "#xac dinh toa do diem sang khac thuong\n",
    "# file = 'D:\\LAB\\XuLyAnh\\DIPgit\\img\\PeriodicNoiseCraft.png'\n",
    "# img = cv.imread(file, cv.IMREAD_GRAYSCALE)\n",
    "# \n",
    "# F = np.fft.fftshift(np.fft.fft2(img))\n",
    "# spec = np.log(np.abs(F))\n",
    "# ratio = 255/spec.max();\n",
    "# spec *= ratio\n",
    "# spec = spec.astype(np.uint8)\n",
    "# cv.imwrite('eriodicNoiseCraft.png', spec)\n"
   ],
   "metadata": {
    "collapsed": false,
    "ExecuteTime": {
     "end_time": "2024-06-10T15:51:51.698914Z",
     "start_time": "2024-06-10T15:51:51.670914Z"
    }
   },
   "id": "9415fa465b0dcb66",
   "execution_count": 2
  },
  {
   "cell_type": "code",
   "outputs": [],
   "source": [
    "def createNotchFilter(shape, points, radius):\n",
    "    H = np.ones(shape)\n",
    "    # goc toa do\n",
    "    cx = shape[1] // 2\n",
    "    cy = shape[0] // 2\n",
    "    for d in range(len(points)):\n",
    "        x = points[d][0]\n",
    "        y = points[d][1]\n",
    "        cv.circle(H, (x, y), radius, 0, -1, cv.LINE_AA)\n",
    "\n",
    "        # delta x, y\n",
    "        dx = (cx - x)\n",
    "        dy = (cy - y)\n",
    "        x2 = cx + dx\n",
    "        y2 = cy + dy\n",
    "        cv.circle(H, (x2, y2), radius, 0, -1, cv.LINE_AA)\n",
    "    return H\n",
    "\n",
    "        "
   ],
   "metadata": {
    "collapsed": false,
    "ExecuteTime": {
     "end_time": "2024-06-10T15:51:51.730020Z",
     "start_time": "2024-06-10T15:51:51.710827Z"
    }
   },
   "id": "5315d8cf0fac34ac",
   "execution_count": 3
  },
  {
   "cell_type": "code",
   "outputs": [],
   "source": [
    "#xac dinh toa do diem sang khac thuong\n",
    "file = 'D:\\CODE\\XLA\\DIP\\DIP\\img\\PeriodicNoiseCraft.png'\n",
    "img = cv.imread(file, cv.IMREAD_GRAYSCALE)\n",
    "points = np.array([[283, 231],[285,233],[383,131],[385,133]])  # chi can 1 diem suy ra diem con lai\n",
    "\n",
    "F = np.fft.fftshift(np.fft.fft2(img))\n",
    "H = createNotchFilter(img.shape, points, 1)\n",
    "\n",
    "G = F * H\n",
    "\n",
    "g = np.fft.ifft2(np.fft.ifftshift(G))\n",
    "g = np.abs(g)\n",
    "g = np.clip(g, 0, 255).astype(np.uint8)\n",
    "\n",
    "cv.imshow('Denoised', g)\n",
    "\n",
    "cv.waitKey(0)\n",
    "cv.destroyAllWindows()\n"
   ],
   "metadata": {
    "collapsed": false,
    "ExecuteTime": {
     "end_time": "2024-06-10T15:52:06.654162Z",
     "start_time": "2024-06-10T15:51:51.732100Z"
    }
   },
   "id": "8e086ca2aa5dcaab",
   "execution_count": 4
  },
  {
   "cell_type": "code",
   "outputs": [],
   "source": [],
   "metadata": {
    "collapsed": false,
    "ExecuteTime": {
     "end_time": "2024-06-10T15:52:06.669771Z",
     "start_time": "2024-06-10T15:52:06.656160Z"
    }
   },
   "id": "eca3300a286d343d",
   "execution_count": 4
  }
 ],
 "metadata": {
  "kernelspec": {
   "display_name": "Python 3",
   "language": "python",
   "name": "python3"
  },
  "language_info": {
   "codemirror_mode": {
    "name": "ipython",
    "version": 2
   },
   "file_extension": ".py",
   "mimetype": "text/x-python",
   "name": "python",
   "nbconvert_exporter": "python",
   "pygments_lexer": "ipython2",
   "version": "2.7.6"
  }
 },
 "nbformat": 4,
 "nbformat_minor": 5
}
