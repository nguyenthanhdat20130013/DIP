{
 "cells": [
  {
   "cell_type": "code",
   "execution_count": 1,
   "id": "initial_id",
   "metadata": {
    "collapsed": true,
    "ExecuteTime": {
     "end_time": "2024-06-14T06:15:49.832417Z",
     "start_time": "2024-06-14T06:15:49.700126Z"
    }
   },
   "outputs": [],
   "source": [
    "import cv2 as cv\n",
    "import numpy as np"
   ]
  },
  {
   "cell_type": "code",
   "outputs": [],
   "source": [
    "def adaptiveMovingMean(img, c, ksize):\n",
    "    c = c/ksize\n",
    "    M, N = img.shape\n",
    "    out = np.zeros_like(img)\n",
    "    padding = ksize-1\n",
    "    padded = np.pad(img, ((0,0), (0, padding)), mode='reflect')\n",
    "    for row in range(M):\n",
    "       S = np.sum(padded[row, 0:ksize])\n",
    "       T = c*S\n",
    "       if img[row, 0] <= T:\n",
    "           out[row, 0] = 0\n",
    "       else:\n",
    "           out[row, 0] = 255\n",
    "       for col in range(1, N):\n",
    "           S = S + padded[row, col+ksize-1] - padded[row, col-1]\n",
    "           T = c*S\n",
    "           if img[row, col] <= T:\n",
    "               out[row, col] = 0\n",
    "           else:\n",
    "               out[row, col] = 255\n",
    "    return out"
   ],
   "metadata": {
    "collapsed": false,
    "ExecuteTime": {
     "end_time": "2024-06-14T06:15:49.848427Z",
     "start_time": "2024-06-14T06:15:49.833304Z"
    }
   },
   "id": "35a375ac5f292818",
   "execution_count": 2
  },
  {
   "cell_type": "code",
   "outputs": [],
   "source": [
    "file = 'D:\\CODE\\XLA\\DIP\\DIP\\img\\img_13.png'\n",
    "img = cv.imread(file, cv.IMREAD_GRAYSCALE)\n",
    "c = 1.01\n",
    "ksize = 5\n",
    "out = adaptiveMovingMean(img, c, ksize)\n",
    "cv.imshow('Original', img)\n",
    "cv.imshow('Adaptive Local Thresholding', out)\n",
    "cv.waitKey(0)\n",
    "cv.destroyAllWindows()"
   ],
   "metadata": {
    "collapsed": false,
    "ExecuteTime": {
     "end_time": "2024-06-14T06:17:56.172326Z",
     "start_time": "2024-06-14T06:17:44.574752Z"
    }
   },
   "id": "e8cee900b194f003",
   "execution_count": 14
  }
 ],
 "metadata": {
  "kernelspec": {
   "display_name": "Python 3",
   "language": "python",
   "name": "python3"
  },
  "language_info": {
   "codemirror_mode": {
    "name": "ipython",
    "version": 2
   },
   "file_extension": ".py",
   "mimetype": "text/x-python",
   "name": "python",
   "nbconvert_exporter": "python",
   "pygments_lexer": "ipython2",
   "version": "2.7.6"
  }
 },
 "nbformat": 4,
 "nbformat_minor": 5
}
