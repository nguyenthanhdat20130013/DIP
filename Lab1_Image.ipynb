{
 "cells": [
  {
   "cell_type": "code",
   "execution_count": 1,
   "id": "initial_id",
   "metadata": {
    "collapsed": true,
    "ExecuteTime": {
     "end_time": "2024-05-03T14:12:25.276122Z",
     "start_time": "2024-05-03T14:12:24.973727Z"
    }
   },
   "outputs": [],
   "source": [
    "#import file\n",
    "import numpy as np\n",
    "import cv2 as cv"
   ]
  },
  {
   "cell_type": "code",
   "outputs": [],
   "source": [
    "file = 'D:\\LAB\\XuLyAnh\\DIPgit\\img\\img.png'\n",
    "img = cv.imread(file)"
   ],
   "metadata": {
    "collapsed": false,
    "ExecuteTime": {
     "end_time": "2024-05-03T14:12:28.294549Z",
     "start_time": "2024-05-03T14:12:28.072399Z"
    }
   },
   "id": "6741b1bfdd8891eb",
   "execution_count": 2
  },
  {
   "cell_type": "code",
   "outputs": [
    {
     "name": "stdout",
     "output_type": "stream",
     "text": [
      "Orginal Image Shape: (2000, 3008, 3)\n",
      "Gray Image Shape: (2000, 3008)\n"
     ]
    }
   ],
   "source": [
    "print(f'Orginal Image Shape: {img.shape}')\n",
    "gray = cv.cvtColor(img, cv.COLOR_BGR2GRAY)\n",
    "print(f'Gray Image Shape: {gray.shape}')"
   ],
   "metadata": {
    "collapsed": false,
    "ExecuteTime": {
     "end_time": "2024-05-03T14:15:38.242220Z",
     "start_time": "2024-05-03T14:15:38.222151Z"
    }
   },
   "id": "d3d6722f58d8aef5",
   "execution_count": 8
  },
  {
   "cell_type": "code",
   "outputs": [
    {
     "data": {
      "text/plain": "True"
     },
     "execution_count": 12,
     "metadata": {},
     "output_type": "execute_result"
    }
   ],
   "source": [
    "crop = img[300:500, 300:500]\n",
    "cv.imwrite(\"Cropped.png\", crop)"
   ],
   "metadata": {
    "collapsed": false,
    "ExecuteTime": {
     "end_time": "2024-05-03T14:16:19.205643Z",
     "start_time": "2024-05-03T14:16:19.190588Z"
    }
   },
   "id": "6142d1410c5a6d12",
   "execution_count": 12
  },
  {
   "cell_type": "code",
   "outputs": [],
   "source": [
    "cv.imshow('Cropped', crop)\n",
    "cv.imshow('Gray Image', gray)\n",
    "cv.imshow(\"Original Image\", img)\n",
    "cv.waitKey(0)\n",
    "cv.destroyAllWindows()"
   ],
   "metadata": {
    "collapsed": false,
    "ExecuteTime": {
     "end_time": "2024-05-03T14:16:29.772179Z",
     "start_time": "2024-05-03T14:16:24.479560Z"
    }
   },
   "id": "7fe2183559e84095",
   "execution_count": 13
  },
  {
   "cell_type": "code",
   "outputs": [],
   "source": [],
   "metadata": {
    "collapsed": false
   },
   "id": "da3855e488e21431"
  }
 ],
 "metadata": {
  "kernelspec": {
   "display_name": "Python 3",
   "language": "python",
   "name": "python3"
  },
  "language_info": {
   "codemirror_mode": {
    "name": "ipython",
    "version": 2
   },
   "file_extension": ".py",
   "mimetype": "text/x-python",
   "name": "python",
   "nbconvert_exporter": "python",
   "pygments_lexer": "ipython2",
   "version": "2.7.6"
  }
 },
 "nbformat": 4,
 "nbformat_minor": 5
}
