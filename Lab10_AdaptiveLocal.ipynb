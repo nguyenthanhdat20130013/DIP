{
 "cells": [
  {
   "cell_type": "code",
   "execution_count": 1,
   "id": "initial_id",
   "metadata": {
    "collapsed": true,
    "ExecuteTime": {
     "end_time": "2024-06-14T06:05:09.586938Z",
     "start_time": "2024-06-14T06:05:08.448032Z"
    }
   },
   "outputs": [],
   "source": [
    "import numpy as  np\n",
    "import cv2 as cv\n"
   ]
  },
  {
   "cell_type": "code",
   "outputs": [],
   "source": [
    "def adaptiveLocalThresholding(img, a, b, ksize):\n",
    "    M, N = img.shape\n",
    "    out = np.zeros_like(img)\n",
    "    padding = ksize//2\n",
    "    padded = np.pad(img, padding, mode='reflect')\n",
    "    avg = np.mean(img)\n",
    "    for row in range(M):\n",
    "        for col in range(N):\n",
    "           S = padded[row:row+ksize, col:col+ksize]\n",
    "           std = np.std(S)\n",
    "           T = a*std + b*avg\n",
    "           if img[row, col] <= T:\n",
    "                out[row, col] = 0\n",
    "           else:\n",
    "                out[row, col] = 255\n",
    "    return out"
   ],
   "metadata": {
    "collapsed": false,
    "ExecuteTime": {
     "end_time": "2024-06-14T06:05:09.602862Z",
     "start_time": "2024-06-14T06:05:09.588862Z"
    }
   },
   "id": "1aeaef04b03784ec",
   "execution_count": 2
  },
  {
   "cell_type": "code",
   "outputs": [],
   "source": [
    "file = 'D:\\CODE\\XLA\\DIP\\DIP\\img\\img_13.png'\n",
    "img = cv.imread(file, cv.IMREAD_GRAYSCALE)\n",
    "a = 15\n",
    "b = 1\n",
    "ksize = 5\n",
    "out = adaptiveLocalThresholding(img, a, b, ksize)\n",
    "cv.imshow('Original', img)\n",
    "cv.imshow('Adaptive Local Thresholding', out)\n",
    "cv.waitKey(0)\n",
    "cv.destroyAllWindows()"
   ],
   "metadata": {
    "collapsed": false,
    "ExecuteTime": {
     "end_time": "2024-06-14T06:07:00.270526Z",
     "start_time": "2024-06-14T06:06:26.513799Z"
    }
   },
   "id": "6a4f7029a0c1d467",
   "execution_count": 4
  }
 ],
 "metadata": {
  "kernelspec": {
   "display_name": "Python 3",
   "language": "python",
   "name": "python3"
  },
  "language_info": {
   "codemirror_mode": {
    "name": "ipython",
    "version": 2
   },
   "file_extension": ".py",
   "mimetype": "text/x-python",
   "name": "python",
   "nbconvert_exporter": "python",
   "pygments_lexer": "ipython2",
   "version": "2.7.6"
  }
 },
 "nbformat": 4,
 "nbformat_minor": 5
}
