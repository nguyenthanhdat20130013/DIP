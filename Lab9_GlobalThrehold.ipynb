{
 "cells": [
  {
   "cell_type": "code",
   "execution_count": null,
   "id": "initial_id",
   "metadata": {
    "collapsed": true
   },
   "outputs": [],
   "source": [
    "import numpy as np\n",
    "import cv2 as cv\n",
    "\n",
    "def global_threshold(gray, threshold = 0.1):\n",
    "    t = np.mean(gray)\n",
    "    t0 = t\n",
    "    \n",
    "    while True:\n",
    "        g1 = gray[gray<t]\n",
    "        g2 = gray[gray >= t]\n",
    "        m1 = np.mean(g1)\n",
    "        m2 = np.mean(g2)\n",
    "        t = (m1+m2)/2.0\n",
    "        delta = np.abs(t-t0)\n",
    "        t0 = t\n",
    "        if delta < threshold:\n",
    "            break\n",
    "        return t "
   ]
  },
  {
   "cell_type": "code",
   "outputs": [],
   "source": [
    "def threshold(gray):\n",
    "    t = global_threshold(gray)\n",
    "    gray[gray<t] = 0\n",
    "    gray[gray>=t] = 255\n",
    "    return gray"
   ],
   "metadata": {
    "collapsed": false
   },
   "id": "1e3e6151b4746045"
  },
  {
   "cell_type": "code",
   "outputs": [],
   "source": [
    "file = "
   ],
   "metadata": {
    "collapsed": false
   },
   "id": "8552ce11cfe04659"
  }
 ],
 "metadata": {
  "kernelspec": {
   "display_name": "Python 3",
   "language": "python",
   "name": "python3"
  },
  "language_info": {
   "codemirror_mode": {
    "name": "ipython",
    "version": 2
   },
   "file_extension": ".py",
   "mimetype": "text/x-python",
   "name": "python",
   "nbconvert_exporter": "python",
   "pygments_lexer": "ipython2",
   "version": "2.7.6"
  }
 },
 "nbformat": 4,
 "nbformat_minor": 5
}
