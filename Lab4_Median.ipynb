{
 "cells": [
  {
   "cell_type": "code",
   "execution_count": 1,
   "id": "initial_id",
   "metadata": {
    "collapsed": true,
    "ExecuteTime": {
     "end_time": "2024-05-10T14:15:32.111675Z",
     "start_time": "2024-05-10T14:15:31.547635Z"
    }
   },
   "outputs": [],
   "source": [
    "import cv2 as cv\n",
    "import numpy as np"
   ]
  },
  {
   "cell_type": "code",
   "outputs": [],
   "source": [
    "def convolution(gray, kernel):\n",
    "    ksize = kernel.shape[0]\n",
    "    padding = ksize // 2\n",
    "    gray_ext = np.pad(gray,padding)\n",
    "    kernel_ext = np.pad(kernel,padding)\n",
    "    N, M = gray.shape\n",
    "    out = np.zeros((N, M), dtype=float)\n",
    "    for row in range(N):\n",
    "        for col in range(M):\n",
    "            sub = gray_ext[row:row+ksize, col:col+ksize]\n",
    "            out[row, col] = np.sum(sub * kernel)\n",
    "    out = np.clip(out, 0, 255).astype(np.uint8)\n",
    "    return out"
   ],
   "metadata": {
    "collapsed": false,
    "ExecuteTime": {
     "end_time": "2024-05-10T14:15:32.143818Z",
     "start_time": "2024-05-10T14:15:32.116221Z"
    }
   },
   "id": "b64f13d5ecaabec2",
   "execution_count": 2
  },
  {
   "cell_type": "code",
   "outputs": [],
   "source": [
    "def meanFilteringcon(img, ksize):\n",
    "    kernel = np.ones((ksize, ksize))/(ksize*ksize)\n",
    "    return convolution(img, kernel)"
   ],
   "metadata": {
    "collapsed": false,
    "ExecuteTime": {
     "end_time": "2024-05-10T14:15:32.159364Z",
     "start_time": "2024-05-10T14:15:32.148820Z"
    }
   },
   "id": "fc03a286d123b8e7",
   "execution_count": 3
  },
  {
   "cell_type": "code",
   "outputs": [],
   "source": [
    "def meanFiltering(gray, ksize):\n",
    "    padding = ksize // 2\n",
    "    gray_ext = np.pad(gray,padding)\n",
    "    N, M = gray.shape\n",
    "    out = np.zeros((N, M), dtype=float)\n",
    "    for row in range(N):\n",
    "        for col in range(M):\n",
    "            sub = gray_ext[row:row + ksize, col:col + ksize]\n",
    "            arr = np.sort(sub, axis=None)\n",
    "            out[row, col] = arr[ksize * ksize //2]\n",
    "    out = np.clip(out, 0, 255).astype(np.uint8)\n",
    "    return out"
   ],
   "metadata": {
    "collapsed": false,
    "ExecuteTime": {
     "end_time": "2024-05-10T14:15:32.190966Z",
     "start_time": "2024-05-10T14:15:32.166900Z"
    }
   },
   "id": "adcf9187ecf4fed0",
   "execution_count": 4
  },
  {
   "cell_type": "code",
   "outputs": [],
   "source": [
    "file = 'D:\\LAB\\XuLyAnh\\DIPgit\\img\\img_3.png'\n",
    "img = cv.imread(file, 0)\n",
    "cv.imshow('img', img)\n",
    "out = meanFiltering(img, 3)\n",
    "cv.imshow('meanFiltering', out)\n",
    "cv.waitKey(0)\n",
    "cv.destroyAllWindows()"
   ],
   "metadata": {
    "collapsed": false,
    "ExecuteTime": {
     "end_time": "2024-05-10T14:21:46.114984Z",
     "start_time": "2024-05-10T14:21:37.728385Z"
    }
   },
   "id": "40b09efe1a5bffbe",
   "execution_count": 14
  },
  {
   "cell_type": "code",
   "outputs": [],
   "source": [],
   "metadata": {
    "collapsed": false
   },
   "id": "405bbd14da9eb7e2"
  }
 ],
 "metadata": {
  "kernelspec": {
   "display_name": "Python 3",
   "language": "python",
   "name": "python3"
  },
  "language_info": {
   "codemirror_mode": {
    "name": "ipython",
    "version": 2
   },
   "file_extension": ".py",
   "mimetype": "text/x-python",
   "name": "python",
   "nbconvert_exporter": "python",
   "pygments_lexer": "ipython2",
   "version": "2.7.6"
  }
 },
 "nbformat": 4,
 "nbformat_minor": 5
}
