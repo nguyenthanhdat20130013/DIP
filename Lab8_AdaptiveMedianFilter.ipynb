{
 "cells": [
  {
   "cell_type": "code",
   "execution_count": 4,
   "id": "initial_id",
   "metadata": {
    "collapsed": true,
    "ExecuteTime": {
     "end_time": "2024-06-10T16:09:35.740244Z",
     "start_time": "2024-06-10T16:09:35.729242Z"
    }
   },
   "outputs": [],
   "source": [
    "import cv2 as cv\n",
    "import numpy as np\n",
    "\n",
    "\n",
    "def adaptiveMedianFilter(img_gray, window_max):\n",
    "    N, M = img_gray.shape\n",
    "    output = np.zeros_like(img_gray)\n",
    "    for row in range(N):\n",
    "        for col in range(M):\n",
    "            output[row, col] = anf(img_gray, row, col, window_max)\n",
    "    return output"
   ]
  },
  {
   "cell_type": "code",
   "outputs": [],
   "source": [
    "def anf(img_gray, row, col, window_max):\n",
    "    N, M = img_gray.shape\n",
    "    window_size = 3\n",
    "    Zxy =  img_gray[row, col]\n",
    "    while window_size <= window_max:\n",
    "        d = window_size//2\n",
    "        S = img_gray[max(0, row - d):min(N, row+d+1), max(0, col - d):min(M, col+d+1)]\n",
    "        Zmin = S.min()\n",
    "        Zmax = S.max()\n",
    "        Zmed = np.median(S)\n",
    "        if Zmin < Zmed < Zmax:\n",
    "            if Zmin < Zxy < Zmax:\n",
    "                return Zxy\n",
    "            else:\n",
    "                return Zmed\n",
    "        else:\n",
    "            window_size += 2\n",
    "    return Zmed"
   ],
   "metadata": {
    "collapsed": false,
    "ExecuteTime": {
     "end_time": "2024-06-10T16:09:35.771257Z",
     "start_time": "2024-06-10T16:09:35.750247Z"
    }
   },
   "id": "d4fbfe48e5c71873",
   "execution_count": 5
  },
  {
   "cell_type": "code",
   "outputs": [],
   "source": [
    "file = 'D:\\CODE\\XLA\\DIP\\DIP\\img\\img_11.png'\n",
    "img_gray = cv.imread(file, cv.IMREAD_GRAYSCALE)\n",
    "window_max = 20\n",
    "filter = adaptiveMedianFilter(img_gray, window_max)\n",
    "cv.imshow('Median Filter', filter)\n",
    "cv.imshow(\"original\", img_gray)\n",
    "cv.waitKey(0)\n",
    "cv.destroyAllWindows()"
   ],
   "metadata": {
    "collapsed": false,
    "ExecuteTime": {
     "end_time": "2024-06-10T16:21:40.948562Z",
     "start_time": "2024-06-10T16:21:11.245839Z"
    }
   },
   "id": "1b6ec34dfe1c6990",
   "execution_count": 13
  },
  {
   "cell_type": "code",
   "outputs": [],
   "source": [],
   "metadata": {
    "collapsed": false
   },
   "id": "7aea74d2e0e943b1"
  }
 ],
 "metadata": {
  "kernelspec": {
   "display_name": "Python 3",
   "language": "python",
   "name": "python3"
  },
  "language_info": {
   "codemirror_mode": {
    "name": "ipython",
    "version": 2
   },
   "file_extension": ".py",
   "mimetype": "text/x-python",
   "name": "python",
   "nbconvert_exporter": "python",
   "pygments_lexer": "ipython2",
   "version": "2.7.6"
  }
 },
 "nbformat": 4,
 "nbformat_minor": 5
}
