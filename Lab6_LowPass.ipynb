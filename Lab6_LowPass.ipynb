{
 "cells": [
  {
   "cell_type": "code",
   "execution_count": 32,
   "id": "initial_id",
   "metadata": {
    "collapsed": true,
    "ExecuteTime": {
     "end_time": "2024-05-10T15:53:54.541047Z",
     "start_time": "2024-05-10T15:53:54.519716Z"
    }
   },
   "outputs": [],
   "source": [
    "import numpy as np\n",
    "import cv2 as cv"
   ]
  },
  {
   "cell_type": "code",
   "outputs": [],
   "source": [
    "def createCircleFilter(shape, radius):\n",
    "    H = np.zeros(shape, dtype='uint8')\n",
    "    row, col = shape\n",
    "    cv.circle(H, (col//2, row//2), radius,1,-1)\n",
    "    return H"
   ],
   "metadata": {
    "collapsed": false,
    "ExecuteTime": {
     "end_time": "2024-05-10T15:53:54.555950Z",
     "start_time": "2024-05-10T15:53:54.545051Z"
    }
   },
   "id": "eedd6802915d4743",
   "execution_count": 33
  },
  {
   "cell_type": "code",
   "outputs": [],
   "source": [
    "# def lowPassFilter(gray, radius):\n",
    "#     F = np.fft.fftshift(np.fft.fft2(gray))\n",
    "#     H = createCircleFilter(gray.shape, radius)\n",
    "#     G = F*H\n",
    "#     g = np.fft.ifft2(np.fft.ifftshift(G))\n",
    "#     return np.abs(g)"
   ],
   "metadata": {
    "collapsed": false,
    "ExecuteTime": {
     "end_time": "2024-05-10T15:53:54.571147Z",
     "start_time": "2024-05-10T15:53:54.557952Z"
    }
   },
   "id": "5f32fb2819c1f9af",
   "execution_count": 34
  },
  {
   "cell_type": "code",
   "outputs": [],
   "source": [
    "def lowPassFilter1(gray, radius):\n",
    "    F = np.fft.fftshift(np.fft.fft2(gray))\n",
    "    H = createCircleFilter(gray.shape, radius)\n",
    "    G = F*H\n",
    "    g = np.fft.ifft2(np.fft.ifftshift(G))\n",
    "    \n",
    "    spec = np.log1p(np.abs(G))\n",
    "    max = np.amax(spec)\n",
    "    k = 255/max\n",
    "    spec *= k\n",
    "    spec = np.clip(spec, 0, 255).astype(np.uint8)\n",
    "\n",
    "    return np.abs(g), spec"
   ],
   "metadata": {
    "collapsed": false,
    "ExecuteTime": {
     "end_time": "2024-05-10T15:53:54.587218Z",
     "start_time": "2024-05-10T15:53:54.574124Z"
    }
   },
   "id": "e02ce9c1d40018c1",
   "execution_count": 35
  },
  {
   "cell_type": "code",
   "outputs": [],
   "source": [
    "def sharpenFilter(gray , radius, K):\n",
    "    flp, _ = lowPassFilter1(gray, radius)\n",
    "    gmask = gray - flp\n",
    "    filtered = gray + K*gmask\n",
    "    filtered = np.clip(filtered, 0, 255).astype(np.uint8)\n",
    "    return filtered"
   ],
   "metadata": {
    "collapsed": false,
    "ExecuteTime": {
     "end_time": "2024-05-10T15:53:54.617831Z",
     "start_time": "2024-05-10T15:53:54.595725Z"
    }
   },
   "id": "7bf0e014806c5f9f",
   "execution_count": 36
  },
  {
   "cell_type": "code",
   "outputs": [],
   "source": [
    "# file = 'D:\\LAB\\XuLyAnh\\DIPgit\\img\\img_5.png'\n",
    "# gray = cv.imread(file, 0)\n",
    "# cv.imshow('Original', gray)\n",
    "# g= lowPassFilter(gray, 2)\n",
    "# cv.imshow('Filtered', g)\n",
    "# cv.waitKey(0)\n",
    "# cv.destroyAllWindows()"
   ],
   "metadata": {
    "collapsed": false,
    "ExecuteTime": {
     "end_time": "2024-05-10T15:53:54.649938Z",
     "start_time": "2024-05-10T15:53:54.622813Z"
    }
   },
   "id": "2c42303dff4719ac",
   "execution_count": 37
  },
  {
   "cell_type": "code",
   "outputs": [],
   "source": [
    "file = 'D:\\LAB\\XuLyAnh\\DIPgit\\img\\img_8.png'\n",
    "img = cv.imread(file)\n",
    "HSV = cv.cvtColor(img, cv.COLOR_BGR2HSV)\n",
    "gray = HSV[:,:,2]\n",
    "HSV[:,:,2] = sharpenFilter(gray, 50, 1.5)\n",
    "g = cv.cvtColor(HSV, cv.COLOR_HSV2BGR)\n",
    "cv.imshow('Original', img)\n",
    "# g, spec = lowPassFilter(gray, 50)\n",
    "# spec = np.clip(spec,0,255).astype(np.uint8)\n",
    "# cv.imshow('LowPass', g)\n",
    "# cv.imshow('Spec', spec)\n",
    "#g1 = sharpenFilter(gray, 50, 1.5)\n",
    "cv.imshow('Sharpen Image', g)\n",
    "\n",
    "cv.waitKey()\n",
    "cv.destroyAllWindows()\n",
    "# Anh mau"
   ],
   "metadata": {
    "collapsed": false,
    "ExecuteTime": {
     "end_time": "2024-05-10T15:54:06.963834Z",
     "start_time": "2024-05-10T15:53:54.655458Z"
    }
   },
   "id": "83013e80f4478f8a",
   "execution_count": 38
  }
 ],
 "metadata": {
  "kernelspec": {
   "display_name": "Python 3",
   "language": "python",
   "name": "python3"
  },
  "language_info": {
   "codemirror_mode": {
    "name": "ipython",
    "version": 2
   },
   "file_extension": ".py",
   "mimetype": "text/x-python",
   "name": "python",
   "nbconvert_exporter": "python",
   "pygments_lexer": "ipython2",
   "version": "2.7.6"
  }
 },
 "nbformat": 4,
 "nbformat_minor": 5
}
