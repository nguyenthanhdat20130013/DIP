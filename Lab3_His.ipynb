{
 "cells": [
  {
   "cell_type": "code",
   "execution_count": 1,
   "id": "initial_id",
   "metadata": {
    "collapsed": true,
    "ExecuteTime": {
     "end_time": "2024-05-10T13:27:19.538482Z",
     "start_time": "2024-05-10T13:27:17.924248Z"
    }
   },
   "outputs": [],
   "source": [
    "import cv2 as cv\n",
    "import numpy as np"
   ]
  },
  {
   "cell_type": "code",
   "outputs": [],
   "source": [
    "def createHist(img, L):\n",
    "    hist = np.zeros((L,), float)\n",
    "    N, M = img.shape\n",
    "    for row in range(N):\n",
    "        for col in range(M):\n",
    "            g = img[row, col]\n",
    "            hist[g] += 1\n",
    "    hist /= img.size\n",
    "    return hist"
   ],
   "metadata": {
    "collapsed": false,
    "ExecuteTime": {
     "end_time": "2024-05-10T13:27:19.554021Z",
     "start_time": "2024-05-10T13:27:19.542492Z"
    }
   },
   "id": "676070a80e978f5a",
   "execution_count": 2
  },
  {
   "cell_type": "code",
   "outputs": [],
   "source": [
    "# Function to calculate the cumulative histogram\n",
    "def calcHist(img, L):\n",
    "    hist = createHist(img, L)\n",
    "    cum = np.cumsum(hist)\n",
    "    cmin = cum[np.nonzero(cum)].min()\n",
    "    cmax = cum.max()\n",
    "    ehist = np.round((L - 1) * (cum - cmin) / (cmax - cmin)).astype(np.uint8)\n",
    "    ltable = ehist.reshape((L, 1))\n",
    "    dst = cv.LUT(img, ltable)\n",
    "    return dst"
   ],
   "metadata": {
    "collapsed": false,
    "ExecuteTime": {
     "end_time": "2024-05-10T13:27:19.585156Z",
     "start_time": "2024-05-10T13:27:19.560561Z"
    }
   },
   "id": "973271d16ecaa7ef",
   "execution_count": 3
  },
  {
   "cell_type": "code",
   "outputs": [],
   "source": [
    "# Function to apply histogram equalization to a colored image\n",
    "def callHistColored(img):\n",
    "    L = 256\n",
    "    colored = (img.ndim == 3)\n",
    "    if colored:  # color image\n",
    "        HSV = cv.cvtColor(img, cv.COLOR_BGR2HSV)\n",
    "        gray = HSV[:, :, 2]\n",
    "        gray = calcHist(gray, L)\n",
    "        HSV[:, :, 2] = gray\n",
    "        dst = cv.cvtColor(HSV, cv.COLOR_HSV2BGR)\n",
    "    else:  # gray\n",
    "        dst = calcHist(img, L)\n",
    "    return dst"
   ],
   "metadata": {
    "collapsed": false,
    "ExecuteTime": {
     "end_time": "2024-05-10T13:27:19.617785Z",
     "start_time": "2024-05-10T13:27:19.590696Z"
    }
   },
   "id": "13d686d246d3f79e",
   "execution_count": 4
  },
  {
   "cell_type": "code",
   "outputs": [],
   "source": [
    "# Function to create a histogram of the image\n",
    "def createHist(img, L):\n",
    "    hist = np.zeros((L,), dtype=float)\n",
    "    N, M = img.shape[:2]\n",
    "    for row in range(N):\n",
    "        for col in range(M):\n",
    "            g = img[row, col]\n",
    "            hist[g] += 1\n",
    "    hist /= (N*M)\n",
    "    return hist\n",
    "\n",
    "# Function to calculate the cumulative histogram\n",
    "def calcHist(img, L):\n",
    "    hist = createHist(img, L)\n",
    "    cum = np.cumsum(hist)\n",
    "    cmin = cum[np.nonzero(cum)].min()\n",
    "    cmax = cum.max()\n",
    "    ehist = np.round((L - 1) * (cum - cmin) / (cmax - cmin)).astype(np.uint8)\n",
    "    ltable = ehist.reshape((L, 1))\n",
    "    dst = cv.LUT(img, ltable)\n",
    "    return dst\n",
    "\n",
    "# Function to apply histogram equalization to a colored image\n",
    "def callHistColored(img):\n",
    "    L = 256\n",
    "    colored = (img.ndim == 3)\n",
    "    if colored:  # color image\n",
    "        HSV = cv.cvtColor(img, cv.COLOR_BGR2HSV)\n",
    "        gray = HSV[:, :, 2]\n",
    "        gray = calcHist(gray, L)\n",
    "        HSV[:, :, 2] = gray\n",
    "        dst = cv.cvtColor(HSV, cv.COLOR_HSV2BGR)\n",
    "    else:  # gray\n",
    "        dst = calcHist(img, L)\n",
    "    return dst"
   ],
   "metadata": {
    "collapsed": false,
    "ExecuteTime": {
     "end_time": "2024-05-10T13:27:19.664493Z",
     "start_time": "2024-05-10T13:27:19.629856Z"
    }
   },
   "id": "ef15a8da390fbf2c",
   "execution_count": 5
  },
  {
   "cell_type": "code",
   "outputs": [],
   "source": [
    "file = 'D:\\LAB\\XuLyAnh\\DIPgit\\img\\img_2.png'\n",
    "img = cv.imread(file)\n",
    "dest = callHistColored(img)\n",
    "cv.imshow('Original', img)\n",
    "cv.imshow('Histogram', dest)\n",
    "cv.waitKey(0)\n",
    "cv.destroyAllWindows()"
   ],
   "metadata": {
    "collapsed": false,
    "ExecuteTime": {
     "end_time": "2024-05-10T13:27:29.053611Z",
     "start_time": "2024-05-10T13:27:19.670030Z"
    }
   },
   "id": "bbd69c29d19bd857",
   "execution_count": 6
  },
  {
   "cell_type": "code",
   "outputs": [],
   "source": [],
   "metadata": {
    "collapsed": false,
    "ExecuteTime": {
     "end_time": "2024-05-10T13:27:29.069688Z",
     "start_time": "2024-05-10T13:27:29.056609Z"
    }
   },
   "id": "82475f9626eb16c6",
   "execution_count": 6
  }
 ],
 "metadata": {
  "kernelspec": {
   "display_name": "Python 3",
   "language": "python",
   "name": "python3"
  },
  "language_info": {
   "codemirror_mode": {
    "name": "ipython",
    "version": 2
   },
   "file_extension": ".py",
   "mimetype": "text/x-python",
   "name": "python",
   "nbconvert_exporter": "python",
   "pygments_lexer": "ipython2",
   "version": "2.7.6"
  }
 },
 "nbformat": 4,
 "nbformat_minor": 5
}
